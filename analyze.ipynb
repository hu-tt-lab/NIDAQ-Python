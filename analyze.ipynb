{
 "cells": [
  {
   "cell_type": "code",
   "execution_count": 26,
   "metadata": {},
   "outputs": [],
   "source": [
    "import pandas as pd\n",
    "import glob\n"
   ]
  },
  {
   "cell_type": "code",
   "execution_count": 27,
   "metadata": {},
   "outputs": [
    {
     "data": {
      "text/plain": [
       "['./data/20221221/coil1000-z_4_0-x_0_0-sensor2\\\\voltage_14-04-56.csv',\n",
       " './data/20221221/coil1000-z_4_0-x_0_0-sensor2\\\\voltage_14-05-02.csv',\n",
       " './data/20221221/coil1000-z_4_0-x_0_0-sensor2\\\\voltage_14-05-06.csv',\n",
       " './data/20221221/coil1000-z_4_0-x_0_0-sensor2\\\\voltage_14-05-12.csv',\n",
       " './data/20221221/coil1000-z_4_0-x_0_0-sensor2\\\\voltage_14-05-15.csv',\n",
       " './data/20221221/coil1000-z_4_0-x_0_0-sensor2\\\\voltage_14-05-17.csv',\n",
       " './data/20221221/coil1000-z_4_0-x_0_0-sensor2\\\\voltage_14-05-21.csv',\n",
       " './data/20221221/coil1000-z_4_0-x_0_0-sensor2\\\\voltage_14-05-26.csv',\n",
       " './data/20221221/coil1000-z_4_0-x_0_0-sensor2\\\\voltage_14-05-30.csv',\n",
       " './data/20221221/coil1000-z_4_0-x_0_0-sensor2\\\\voltage_14-05-35.csv',\n",
       " './data/20221221/coil1000-z_4_0-x_0_0-sensor2\\\\voltage_14-05-39.csv',\n",
       " './data/20221221/coil1000-z_4_0-x_0_0-sensor2\\\\voltage_14-05-44.csv',\n",
       " './data/20221221/coil1000-z_4_0-x_0_0-sensor2\\\\voltage_14-05-48.csv']"
      ]
     },
     "execution_count": 27,
     "metadata": {},
     "output_type": "execute_result"
    }
   ],
   "source": [
    "files = glob.glob(\"./data/20221221/coil1000-z_4_0-x_0_0-sensor2/voltage_*.csv\")\n",
    "files"
   ]
  },
  {
   "cell_type": "code",
   "execution_count": 28,
   "metadata": {},
   "outputs": [],
   "source": [
    "dfs = [\n",
    "    pd.read_csv(file).set_index(\"time\").rename(columns={\"V\": f\"{idx * 5}V\"}) for idx, file in enumerate(files)\n",
    "]\n",
    "df = pd.concat(dfs, axis=1)"
   ]
  },
  {
   "cell_type": "code",
   "execution_count": 29,
   "metadata": {},
   "outputs": [
    {
     "data": {
      "text/plain": [
       "0V     3.999618\n",
       "5V     3.999844\n",
       "10V    3.999736\n",
       "15V    3.999615\n",
       "20V    3.999747\n",
       "25V    3.999491\n",
       "30V    3.999367\n",
       "35V    3.999239\n",
       "40V    3.999196\n",
       "45V    3.999373\n",
       "50V    3.999241\n",
       "55V    3.999255\n",
       "60V    3.999090\n",
       "dtype: float64"
      ]
     },
     "execution_count": 29,
     "metadata": {},
     "output_type": "execute_result"
    }
   ],
   "source": [
    "base = df.query(\"time > 0.002\")\n",
    "base.mean()"
   ]
  },
  {
   "cell_type": "code",
   "execution_count": 30,
   "metadata": {},
   "outputs": [
    {
     "data": {
      "text/plain": [
       "0V      0.173495\n",
       "5V      1.630771\n",
       "10V     3.318762\n",
       "15V     5.008038\n",
       "20V     6.606197\n",
       "25V     8.309011\n",
       "30V     9.998561\n",
       "35V    11.655688\n",
       "40V    13.008308\n",
       "45V    13.944261\n",
       "50V    14.746750\n",
       "55V    15.435930\n",
       "60V    15.978572\n",
       "dtype: float64"
      ]
     },
     "execution_count": 30,
     "metadata": {},
     "output_type": "execute_result"
    }
   ],
   "source": [
    "bfield = (df.max() - base.mean()) * 100\n",
    "bfield"
   ]
  },
  {
   "cell_type": "code",
   "execution_count": 31,
   "metadata": {},
   "outputs": [
    {
     "data": {
      "text/plain": [
       "<AxesSubplot:>"
      ]
     },
     "execution_count": 31,
     "metadata": {},
     "output_type": "execute_result"
    },
    {
     "data": {
      "image/png": "[encoded data removed]",
      "text/plain": [
       "<Figure size 640x480 with 1 Axes>"
      ]
     },
     "metadata": {},
     "output_type": "display_data"
    }
   ],
   "source": [
    "bfield.plot()"
   ]
  },
  {
   "cell_type": "code",
   "execution_count": 14,
   "metadata": {},
   "outputs": [
    {
     "data": {
      "text/plain": [
       "['./data/20221221/coil1000-z_0_0-x_0_0-sensor5/',\n",
       " './data/20221221/coil1000-z_1_0-x_0_0-sensor5/',\n",
       " './data/20221221/coil1000-z_2_0-x_0_0-sensor5/',\n",
       " './data/20221221/coil1000-z_3_0-x_0_0-sensor5/',\n",
       " './data/20221221/coil1000-z_4_0-x_0_0-sensor5/',\n",
       " './data/20221221/coil1000-z_5_0-x_0_0-sensor5/',\n",
       " './data/20221221/coil1000-z_6_0-x_0_0-sensor5/',\n",
       " './data/20221221/coil1000-z_0_5-x_0_0-sensor5/',\n",
       " './data/20221221/coil1000-z_1_5-x_0_0-sensor5/',\n",
       " './data/20221221/coil1000-z_2_5-x_0_0-sensor5/',\n",
       " './data/20221221/coil1000-z_3_5-x_0_0-sensor5/',\n",
       " './data/20221221/coil1000-z_4_5-x_0_0-sensor5/',\n",
       " './data/20221221/coil1000-z_5_5-x_0_0-sensor5/']"
      ]
     },
     "execution_count": 14,
     "metadata": {},
     "output_type": "execute_result"
    }
   ],
   "source": [
    "sensornum = 5\n",
    "paths1 = [\n",
    "    f\"./data/20221221/coil1000-z_{n}_0-x_0_0-sensor{sensornum}/\"\n",
    "    for n in range(0,7)\n",
    "]\n",
    "paths2 = [\n",
    "    f\"./data/20221221/coil1000-z_{n}_5-x_0_0-sensor{sensornum}/\"\n",
    "    for n in range(0,6)\n",
    "]\n",
    "paths = paths1 + paths2\n",
    "paths"
   ]
  },
  {
   "cell_type": "code",
   "execution_count": 16,
   "metadata": {},
   "outputs": [],
   "source": [
    "import os\n",
    "for path in paths:\n",
    "    os.mkdir(path)"
   ]
  }
 ],
 "metadata": {
  "kernelspec": {
   "display_name": "Python 3",
   "language": "python",
   "name": "python3"
  },
  "language_info": {
   "codemirror_mode": {
    "name": "ipython",
    "version": 3
   },
   "file_extension": ".py",
   "mimetype": "text/x-python",
   "name": "python",
   "nbconvert_exporter": "python",
   "pygments_lexer": "ipython3",
   "version": "3.10.5"
  },
  "orig_nbformat": 4,
  "vscode": {
   "interpreter": {
    "hash": "671008e045662fce8076a1266e17c5a084884f56cafecc87fbf63ca2941f3867"
   }
  }
 },
 "nbformat": 4,
 "nbformat_minor": 2
}
